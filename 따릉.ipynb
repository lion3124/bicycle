{
  "nbformat": 4,
  "nbformat_minor": 0,
  "metadata": {
    "colab": {
      "provenance": [],
      "authorship_tag": "ABX9TyOdPTJMaXZw04LH4BV63gjE",
      "include_colab_link": true
    },
    "kernelspec": {
      "name": "python3",
      "display_name": "Python 3"
    },
    "language_info": {
      "name": "python"
    }
  },
  "cells": [
    {
      "cell_type": "markdown",
      "metadata": {
        "id": "view-in-github",
        "colab_type": "text"
      },
      "source": [
        "<a href=\"https://colab.research.google.com/github/lion3124/bicycle/blob/main/%EB%94%B0%EB%A6%89.ipynb\" target=\"_parent\"><img src=\"https://colab.research.google.com/assets/colab-badge.svg\" alt=\"Open In Colab\"/></a>"
      ]
    },
    {
      "cell_type": "code",
      "execution_count": 1,
      "metadata": {
        "id": "JVnh-hcypI_s"
      },
      "outputs": [],
      "source": [
        "b= {\"rentBikeStatus\":{\"list_total_count\":5,\"RESULT\":{\"CODE\":\"INFO-000\",\"MESSAGE\":\"정상 처리되었습니다.\"},\"row\":[{\"rackTotCnt\":\"15\",\"stationName\":\"102. 망원역 1번출구 앞\",\"parkingBikeTotCnt\":\"29\",\"shared\":\"193\",\"stationLatitude\":\"37.55564880\",\"stationLongitude\":\"126.91062927\",\"stationId\":\"ST-4\"},{\"rackTotCnt\":\"14\",\"stationName\":\"103. 망원역 2번출구 앞\",\"parkingBikeTotCnt\":\"31\",\"shared\":\"221\",\"stationLatitude\":\"37.55495071\",\"stationLongitude\":\"126.91083527\",\"stationId\":\"ST-5\"},{\"rackTotCnt\":\"13\",\"stationName\":\"104. 합정역 1번출구 앞\",\"parkingBikeTotCnt\":\"15\",\"shared\":\"115\",\"stationLatitude\":\"37.55073929\",\"stationLongitude\":\"126.91508484\",\"stationId\":\"ST-6\"},{\"rackTotCnt\":\"5\",\"stationName\":\"105. 합정역 5번출구 앞\",\"parkingBikeTotCnt\":\"18\",\"shared\":\"360\",\"stationLatitude\":\"37.55000687\",\"stationLongitude\":\"126.91482544\",\"stationId\":\"ST-7\"},{\"rackTotCnt\":\"12\",\"stationName\":\"106. 합정역 7번출구 앞\",\"parkingBikeTotCnt\":\"1\",\"shared\":\"8\",\"stationLatitude\":\"37.54864502\",\"stationLongitude\":\"126.91282654\",\"stationId\":\"ST-8\"}]}}"
      ]
    },
    {
      "cell_type": "code",
      "source": [
        "b"
      ],
      "metadata": {
        "colab": {
          "base_uri": "https://localhost:8080/"
        },
        "id": "Z_JE4weHp-tf",
        "outputId": "c7ccaa48-c0e2-4157-a3e6-ecf3b2748afe"
      },
      "execution_count": 2,
      "outputs": [
        {
          "output_type": "execute_result",
          "data": {
            "text/plain": [
              "{'rentBikeStatus': {'list_total_count': 5,\n",
              "  'RESULT': {'CODE': 'INFO-000', 'MESSAGE': '정상 처리되었습니다.'},\n",
              "  'row': [{'rackTotCnt': '15',\n",
              "    'stationName': '102. 망원역 1번출구 앞',\n",
              "    'parkingBikeTotCnt': '29',\n",
              "    'shared': '193',\n",
              "    'stationLatitude': '37.55564880',\n",
              "    'stationLongitude': '126.91062927',\n",
              "    'stationId': 'ST-4'},\n",
              "   {'rackTotCnt': '14',\n",
              "    'stationName': '103. 망원역 2번출구 앞',\n",
              "    'parkingBikeTotCnt': '31',\n",
              "    'shared': '221',\n",
              "    'stationLatitude': '37.55495071',\n",
              "    'stationLongitude': '126.91083527',\n",
              "    'stationId': 'ST-5'},\n",
              "   {'rackTotCnt': '13',\n",
              "    'stationName': '104. 합정역 1번출구 앞',\n",
              "    'parkingBikeTotCnt': '15',\n",
              "    'shared': '115',\n",
              "    'stationLatitude': '37.55073929',\n",
              "    'stationLongitude': '126.91508484',\n",
              "    'stationId': 'ST-6'},\n",
              "   {'rackTotCnt': '5',\n",
              "    'stationName': '105. 합정역 5번출구 앞',\n",
              "    'parkingBikeTotCnt': '18',\n",
              "    'shared': '360',\n",
              "    'stationLatitude': '37.55000687',\n",
              "    'stationLongitude': '126.91482544',\n",
              "    'stationId': 'ST-7'},\n",
              "   {'rackTotCnt': '12',\n",
              "    'stationName': '106. 합정역 7번출구 앞',\n",
              "    'parkingBikeTotCnt': '1',\n",
              "    'shared': '8',\n",
              "    'stationLatitude': '37.54864502',\n",
              "    'stationLongitude': '126.91282654',\n",
              "    'stationId': 'ST-8'}]}}"
            ]
          },
          "metadata": {},
          "execution_count": 2
        }
      ]
    },
    {
      "cell_type": "code",
      "source": [
        "for x in b['rentBikeStatus']['row']:\n",
        "  print('대여건수', ':', x['stationName'], x['shared'])"
      ],
      "metadata": {
        "colab": {
          "base_uri": "https://localhost:8080/"
        },
        "id": "JdkYxKr2qDUX",
        "outputId": "10693451-9d30-450c-8c9f-9fcbdc6a86cc"
      },
      "execution_count": 3,
      "outputs": [
        {
          "output_type": "stream",
          "name": "stdout",
          "text": [
            "대여건수 : 102. 망원역 1번출구 앞 193\n",
            "대여건수 : 103. 망원역 2번출구 앞 221\n",
            "대여건수 : 104. 합정역 1번출구 앞 115\n",
            "대여건수 : 105. 합정역 5번출구 앞 360\n",
            "대여건수 : 106. 합정역 7번출구 앞 8\n"
          ]
        }
      ]
    },
    {
      "cell_type": "code",
      "source": [],
      "metadata": {
        "id": "HNl_AhA0qvv0"
      },
      "execution_count": null,
      "outputs": []
    }
  ]
}